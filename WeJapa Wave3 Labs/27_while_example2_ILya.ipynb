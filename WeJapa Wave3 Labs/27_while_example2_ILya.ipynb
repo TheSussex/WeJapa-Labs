{
 "cells": [
  {
   "cell_type": "code",
   "execution_count": 7,
   "metadata": {
    "colab": {
     "base_uri": "https://localhost:8080/",
     "height": 68
    },
    "colab_type": "code",
    "id": "FztR6bpxKMwM",
    "outputId": "44b2dd15-820e-483d-8c3f-3722adca72c5"
   },
   "outputs": [
    {
     "name": "stdout",
     "output_type": "stream",
     "text": [
      "Enter start value: 2\n",
      "Enter end value: 100\n",
      "101\n"
     ]
    }
   ],
   "source": [
    "#Count By Check\n",
    "#Suppose you want to count from some number start_num by another number count_by until you hit a final number end_num, and calculate break_num the way you did in the last quiz.\n",
    "\n",
    "#Now in addition, address what would happen if someone gives a start_num that is greater than end_num. If this is the case, set result to \"Oops! Looks like your start value is greater than the end value. Please try again.\" Otherwise, set result to the value of break_num.\n",
    "\n",
    "\n",
    "\n",
    "\n",
    "# write a condition to check that end_num is larger than start_num before looping\n",
    "# write a while loop that uses break_num as the ongoing number to \n",
    "#   check against end_num\n",
    "\n",
    "start_num =int(input(\"Enter start value: \"))\n",
    "end_num = int(input(\"Enter end value: \"))\n",
    "count_by = 0\n",
    "\n",
    "break_num = start_num\n",
    "\n",
    "\n",
    "if start_num > end_num:\n",
    "  print(\"Oops! Looks like your start value is greater than the end value. Please try again.\")\n",
    "\n",
    "else:\n",
    "  while break_num <= end_num:\n",
    "    count_by += 1\n",
    "    break_num += 1\n",
    "    \n",
    "print(break_num)"
   ]
  },
  {
   "cell_type": "code",
   "execution_count": null,
   "metadata": {},
   "outputs": [],
   "source": []
  }
 ],
 "metadata": {
  "colab": {
   "name": "while_example2_ILya_team_split.ipynb",
   "provenance": []
  },
  "kernelspec": {
   "display_name": "Python 3",
   "language": "python",
   "name": "python3"
  },
  "language_info": {
   "codemirror_mode": {
    "name": "ipython",
    "version": 3
   },
   "file_extension": ".py",
   "mimetype": "text/x-python",
   "name": "python",
   "nbconvert_exporter": "python",
   "pygments_lexer": "ipython3",
   "version": "3.7.6"
  }
 },
 "nbformat": 4,
 "nbformat_minor": 1
}
