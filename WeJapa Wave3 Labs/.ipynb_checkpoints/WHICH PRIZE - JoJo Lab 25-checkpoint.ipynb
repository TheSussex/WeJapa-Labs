{
 "cells": [
  {
   "cell_type": "markdown",
   "metadata": {},
   "source": [
    "# LAB NUM 25 - WHICH PRIZE"
   ]
  },
  {
   "cell_type": "code",
   "execution_count": 1,
   "metadata": {},
   "outputs": [
    {
     "name": "stdout",
     "output_type": "stream",
     "text": [
      "Congratulations! You won a wafer-thin mint!\n"
     ]
    }
   ],
   "source": [
    "#Practice: Which Prize\n",
    "#Write an if statement that lets a competitor know which of these prizes they won based on the number of points they scored, \n",
    "#which is stored in the integer variable points.\n",
    "\n",
    "#Points\tPrize\n",
    "#1 - 50\twooden rabbit\n",
    "#51 - 150\tno prize\n",
    "#151 - 180\twafer-thin mint\n",
    "#181 - 200\tpenguin\n",
    "#All of the lower and upper bounds here are inclusive, and points can only take on positive integer values up to 200.\n",
    "\n",
    "#In your if statement, assign the result variable to a string holding the appropriate message based on the value of points. \n",
    "#If they've won a prize, the message should state \"Congratulations! You won a [prize name]!\" with the prize name. \n",
    "#If there's no prize, the message should state \"Oh dear, no prize this time.\"\n",
    "\n",
    "#Note: Feel free to test run your code with other inputs, but when you submit your answer, \n",
    "#only use the original input of points = 174. You can hide your other inputs by commenting them out.\n",
    "\n",
    "\n",
    "points = 174  # use this input to make your submission\n",
    "\n",
    "# write your if statement here\n",
    "# write your if statement here\n",
    "#if points >= 1 and points <= 50:\n",
    "    #print('Congratulations! You won a wooden rabbit!')\n",
    "#elif points > 50 and points <= 150:\n",
    " #   print('Oh dear, no prize this time.')\n",
    "#elif points > 150 and points <= 180:\n",
    " #   print('Congratulations! You won a wafer-thin mint!')\n",
    "#elif points > 180 and points <= 200:\n",
    " #   print('Congratulations! You won a penguin!')\n",
    "#else:\n",
    " #   print('Oh dear, no prize this time.')\n",
    "\n",
    "# This is another block of codes\n",
    "\n",
    "if points >= 1 and points <= 50:\n",
    "    prize = 'wooden rabbit!'\n",
    "elif points > 50 and points <= 150:\n",
    "    prize = 'no prize'\n",
    "elif points > 150 and points <= 180:\n",
    "    prize = 'wafer-thin mint!'\n",
    "elif points > 180 and points <= 200:\n",
    "    prize = 'penguin!'\n",
    "else:\n",
    "    prize = 'Oh dear, no prize this time.'\n",
    "\n",
    "result = 'Congratulations! You won a {}'.format(prize)\n",
    "print(result)\n"
   ]
  }
 ],
 "metadata": {
  "kernelspec": {
   "display_name": "Python 3",
   "language": "python",
   "name": "python3"
  },
  "language_info": {
   "codemirror_mode": {
    "name": "ipython",
    "version": 3
   },
   "file_extension": ".py",
   "mimetype": "text/x-python",
   "name": "python",
   "nbconvert_exporter": "python",
   "pygments_lexer": "ipython3",
   "version": "3.7.6"
  }
 },
 "nbformat": 4,
 "nbformat_minor": 2
}
