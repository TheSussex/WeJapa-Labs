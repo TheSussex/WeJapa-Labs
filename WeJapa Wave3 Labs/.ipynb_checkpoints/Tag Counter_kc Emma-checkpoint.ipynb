{
 "cells": [
  {
   "cell_type": "code",
   "execution_count": null,
   "metadata": {},
   "outputs": [],
   "source": [
    "#Tag Counter\n",
    "#Write a for loop that iterates over a list of strings, tokens, and counts how many of them are XML tags.\n",
    "# XML is a data language similar to HTML. You can tell if a string is an XML tag if it begins with a left angle bracket\n",
    "# \"<\" and ends with a right angle bracket \">\". Keep track of the number of tags using the variable count.\n",
    "\n",
    "#You can assume that the list of strings will not contain empty strings.\n"
   ]
  },
  {
   "cell_type": "code",
   "execution_count": 1,
   "metadata": {},
   "outputs": [
    {
     "name": "stdout",
     "output_type": "stream",
     "text": [
      "2\n"
     ]
    }
   ],
   "source": [
    "tokens = ['<greeting>', 'Hello World!', '</greeting>']\n",
    "count = 0\n",
    "\n",
    "# write your for loop here\n",
    "for t in tokens:\n",
    "    if t.startswith('<') and t.endswith('>'):\n",
    "        count+=1\n",
    "\n",
    "print(count)\n"
   ]
  },
  {
   "cell_type": "code",
   "execution_count": null,
   "metadata": {},
   "outputs": [],
   "source": []
  }
 ],
 "metadata": {
  "kernelspec": {
   "display_name": "Python 3",
   "language": "python",
   "name": "python3"
  },
  "language_info": {
   "codemirror_mode": {
    "name": "ipython",
    "version": 3
   },
   "file_extension": ".py",
   "mimetype": "text/x-python",
   "name": "python",
   "nbconvert_exporter": "python",
   "pygments_lexer": "ipython3",
   "version": "3.7.6"
  }
 },
 "nbformat": 4,
 "nbformat_minor": 4
}
