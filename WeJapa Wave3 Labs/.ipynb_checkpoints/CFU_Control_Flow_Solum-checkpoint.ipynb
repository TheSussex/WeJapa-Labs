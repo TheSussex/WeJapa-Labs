{
 "cells": [
  {
   "cell_type": "code",
   "execution_count": 4,
   "metadata": {},
   "outputs": [
    {
     "name": "stdout",
     "output_type": "stream",
     "text": [
      "The first 5 odd numbers in the list are  [85, 719, 85, 17, 87]\n",
      "The sum of the first 5 odd numbers in the list is  993\n"
     ]
    }
   ],
   "source": [
    "#Question: What type of loop should we use?\n",
    "#You need to write a loop that takes the numbers in a given list named num_list:\n",
    "#num_list = [422, 136, 524, 85, 96, 719, 85, 92, 10, 17, 312, 542, 87, 23, 86, 191, 116, 35, 173, 45, 149, 59, 84, 69, 113, 166]\n",
    "\n",
    "#Your code should add up the odd numbers in the list, but only up to the first 5 odd numbers together. If there are more than 5 odd numbers, you should stop at the fifth. If there are fewer than 5 odd numbers, add all of the odd numbers.\n",
    "\n",
    "#Would you use a while or a for loop to write this code?\n",
    "\n",
    "\n",
    "## Please use this space to test and run your code\n",
    "\n",
    "\n",
    "num_list = [422, 136, 524, 85, 96, 719, 85, 92, 10, 17, 312, 542, 87, 23, 86, 191, 116, 35, 173, 45, 149, 59, 84, 69, 113, 166]\n",
    "odd_list = []\n",
    "for i in num_list:\n",
    "    if i % 2 != 0:\n",
    "        odd_list.append(i)\n",
    "        if len(odd_list) == 5:\n",
    "            break\n",
    "print(\"The first 5 odd numbers in the list are \", odd_list)\n",
    "print(\"The sum of the first 5 odd numbers in the list is \", sum(odd_list))\n",
    "    \n",
    "\n",
    "\n"
   ]
  },
  {
   "cell_type": "code",
   "execution_count": null,
   "metadata": {},
   "outputs": [],
   "source": []
  }
 ],
 "metadata": {
  "kernelspec": {
   "display_name": "Python 3",
   "language": "python",
   "name": "python3"
  },
  "language_info": {
   "codemirror_mode": {
    "name": "ipython",
    "version": 3
   },
   "file_extension": ".py",
   "mimetype": "text/x-python",
   "name": "python",
   "nbconvert_exporter": "python",
   "pygments_lexer": "ipython3",
   "version": "3.7.6"
  }
 },
 "nbformat": 4,
 "nbformat_minor": 4
}
