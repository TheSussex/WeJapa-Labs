{
 "cells": [
  {
   "cell_type": "markdown",
   "metadata": {},
   "source": [
    "# LAB NUM 21 - TRANSPOSE"
   ]
  },
  {
   "cell_type": "code",
   "execution_count": 3,
   "metadata": {},
   "outputs": [
    {
     "name": "stdout",
     "output_type": "stream",
     "text": [
      "((0, 3, 6, 9), (1, 4, 7, 10), (2, 5, 8, 11))\n"
     ]
    }
   ],
   "source": [
    "#Transpose with Zip\n",
    "#Use zip to transpose data from a 4-by-3 matrix to a 3-by-4 matrix. There's actually a cool trick for this!.\n",
    "\n",
    "\n",
    "data = [(0, 1, 2), (3, 4, 5), (6, 7, 8), (9, 10, 11)]\n",
    "    \n",
    "data_transpose = tuple(zip(*data))\n",
    "\n",
    "print(data_transpose)\n"
   ]
  },
  {
   "cell_type": "markdown",
   "metadata": {},
   "source": [
    "# LAB NUM 22 - UNZIP"
   ]
  },
  {
   "cell_type": "code",
   "execution_count": 4,
   "metadata": {},
   "outputs": [
    {
     "name": "stdout",
     "output_type": "stream",
     "text": [
      "('Barney', 'Robin', 'Ted', 'Lily', 'Marshall')\n",
      "(72, 68, 72, 66, 76)\n"
     ]
    }
   ],
   "source": [
    "#Unzip Tuples\n",
    "#Unzip the cast tuple into two names and heights tuples.\n",
    "\n",
    "cast = ((\"Barney\", 72), (\"Robin\", 68), (\"Ted\", 72), (\"Lily\", 66), (\"Marshall\", 76))\n",
    "\n",
    "# define names and heights here\n",
    "names, heights = zip(*cast)\n",
    "\n",
    "\n",
    "print(names)\n",
    "print(heights)"
   ]
  },
  {
   "cell_type": "markdown",
   "metadata": {},
   "source": [
    "# LAB NUM 23 - USERNAMES"
   ]
  },
  {
   "cell_type": "code",
   "execution_count": 5,
   "metadata": {},
   "outputs": [
    {
     "name": "stdout",
     "output_type": "stream",
     "text": [
      "['joey_tribbiani', 'monica_geller', 'chandler_bing', 'phoebe_buffay']\n"
     ]
    }
   ],
   "source": [
    "#Write a for loop that iterates over the names list to create a usernames list. \n",
    "#To create a username for each name, make everything lowercase and replace spaces with underscores. \n",
    "#Running your for loop over the list:\n",
    "\n",
    "#names = [\"Joey Tribbiani\", \"Monica Geller\", \"Chandler Bing\", \"Phoebe Buffay\"]\n",
    "\n",
    "#should create \n",
    "\n",
    "#usernames = [\"joey_tribbiani\", \"monica_geller\", \"chandler_bing\", \"phoebe_buffay\"]\n",
    "\n",
    "\n",
    "#HINT: Use the .replace() method to replace the spaces with underscores. Check out how to use this method in this: \n",
    "\n",
    "#https://stackoverflow.com/a/12723785\n",
    "\n",
    "\n",
    "names = [\"Joey Tribbiani\", \"Monica Geller\", \"Chandler Bing\", \"Phoebe Buffay\"]\n",
    "usernames = []\n",
    "\n",
    "# write your for loop here\n",
    "for item in names:\n",
    "    usernames.append(item.lower().replace(\" \",\"_\"))\n",
    "\n",
    "print(usernames)"
   ]
  },
  {
   "cell_type": "markdown",
   "metadata": {},
   "source": [
    "# LAB NUM 24 - USERNAMES_RANGE"
   ]
  },
  {
   "cell_type": "code",
   "execution_count": 6,
   "metadata": {},
   "outputs": [
    {
     "name": "stdout",
     "output_type": "stream",
     "text": [
      "['joey_tribbiani', 'monica_geller', 'chandler_bing', 'phoebe_buffay']\n"
     ]
    }
   ],
   "source": [
    "#Modify Usernames with Range\n",
    "#Write a for loop that uses range() to iterate over the positions in usernames to modify the list. \n",
    "#Like you did in the previous quiz, change each name to be lowercase and replace spaces with underscores. \n",
    "#After running your loop, this list\n",
    "\n",
    "#usernames = [\"Joey Tribbiani\", \"Monica Geller\", \"Chandler Bing\", \"Phoebe Buffay\"]\n",
    "\n",
    "#should change to this:\n",
    "\n",
    "#usernames = [\"joey_tribbiani\", \"monica_geller\", \"chandler_bing\", \"phoebe_buffay\"]\n",
    "\n",
    "usernames = [\"Joey Tribbiani\", \"Monica Geller\", \"Chandler Bing\", \"Phoebe Buffay\"]\n",
    "\n",
    "# write your for loop here\n",
    "\n",
    "for num in range(len(usernames)):\n",
    "    usernames[num] = usernames[num].lower().replace(\" \",\"_\")\n",
    "\n",
    "\n",
    "print(usernames)"
   ]
  },
  {
   "cell_type": "markdown",
   "metadata": {},
   "source": [
    "# LAB NUM 25 - WHICH PRIZE"
   ]
  },
  {
   "cell_type": "code",
   "execution_count": 7,
   "metadata": {},
   "outputs": [
    {
     "name": "stdout",
     "output_type": "stream",
     "text": [
      "Congratulations! You won a wafer-thin mint!\n"
     ]
    }
   ],
   "source": [
    "#Practice: Which Prize\n",
    "#Write an if statement that lets a competitor know which of these prizes they won based on the number of points they scored, \n",
    "#which is stored in the integer variable points.\n",
    "\n",
    "#Points\tPrize\n",
    "#1 - 50\twooden rabbit\n",
    "#51 - 150\tno prize\n",
    "#151 - 180\twafer-thin mint\n",
    "#181 - 200\tpenguin\n",
    "#All of the lower and upper bounds here are inclusive, and points can only take on positive integer values up to 200.\n",
    "\n",
    "#In your if statement, assign the result variable to a string holding the appropriate message based on the value of points. \n",
    "#If they've won a prize, the message should state \"Congratulations! You won a [prize name]!\" with the prize name. \n",
    "#If there's no prize, the message should state \"Oh dear, no prize this time.\"\n",
    "\n",
    "#Note: Feel free to test run your code with other inputs, but when you submit your answer, \n",
    "#only use the original input of points = 174. You can hide your other inputs by commenting them out.\n",
    "\n",
    "\n",
    "points = 174  # use this input to make your submission\n",
    "\n",
    "# write your if statement here\n",
    "# write your if statement here\n",
    "#if points >= 1 and points <= 50:\n",
    "    #print('Congratulations! You won a wooden rabbit!')\n",
    "#elif points > 50 and points <= 150:\n",
    " #   print('Oh dear, no prize this time.')\n",
    "#elif points > 150 and points <= 180:\n",
    " #   print('Congratulations! You won a wafer-thin mint!')\n",
    "#elif points > 180 and points <= 200:\n",
    " #   print('Congratulations! You won a penguin!')\n",
    "#else:\n",
    " #   print('Oh dear, no prize this time.')\n",
    "\n",
    "# This is another block of codes\n",
    "\n",
    "if points >= 1 and points <= 50:\n",
    "    prize = 'wooden rabbit!'\n",
    "elif points > 50 and points <= 150:\n",
    "    prize = 'no prize'\n",
    "elif points > 150 and points <= 180:\n",
    "    prize = 'wafer-thin mint!'\n",
    "elif points > 180 and points <= 200:\n",
    "    prize = 'penguin!'\n",
    "else:\n",
    "    prize = 'Oh dear, no prize this time.'\n",
    "\n",
    "result = 'Congratulations! You won a {}'.format(prize)\n",
    "print(result)\n"
   ]
  },
  {
   "cell_type": "code",
   "execution_count": null,
   "metadata": {},
   "outputs": [],
   "source": []
  }
 ],
 "metadata": {
  "kernelspec": {
   "display_name": "Python 3",
   "language": "python",
   "name": "python3"
  },
  "language_info": {
   "codemirror_mode": {
    "name": "ipython",
    "version": 3
   },
   "file_extension": ".py",
   "mimetype": "text/x-python",
   "name": "python",
   "nbconvert_exporter": "python",
   "pygments_lexer": "ipython3",
   "version": "3.7.6"
  }
 },
 "nbformat": 4,
 "nbformat_minor": 2
}
