{
 "cells": [
  {
   "cell_type": "code",
   "execution_count": 3,
   "metadata": {},
   "outputs": [
    {
     "name": "stdout",
     "output_type": "stream",
     "text": [
      "Enter your First [space] Last name only: Bisi Oladele\n",
      "Unique flower name with the first letter: Bellflower\n"
     ]
    }
   ],
   "source": [
    "#For the following practice question you will need to write code in Python in the workspace below. This will allow you to practice the concepts discussed in the Scripting lesson, such as reading and writing files. You will see some older concepts too, but again, we have them there to review and reinforce your understanding of those concepts.\n",
    "\n",
    "#Question: Create a function that opens the flowers.txt, reads every line in it, and saves it as a dictionary. The main (separate) function should take user input (user's first name and last name) and parse the user input to identify the first letter of the first name. It should then use it to print the flower name with the same first letter (from dictionary created in the first function).\n",
    "\n",
    "#Sample Output:\n",
    "\n",
    "#>>> Enter your First [space] Last name only: Bill Newman\n",
    "#>>> Unique flower name with the first letter: Bellflower\n",
    "\n",
    "# Write your code here\n",
    "\n",
    "# HINT: create a dictionary from flowers.txt\n",
    "\n",
    "# HINT: create a function\n",
    "\n",
    "\n",
    "\n",
    "\n",
    "# this function opens the flowers.txt, reads every line in it, and saves it as a dictionary\n",
    "\n",
    "def flowers_txt_dictionary(filename):\n",
    "    dictionary = {}\n",
    "    with open(filename, 'r') as file:\n",
    "        for line in file:\n",
    "            letter = line.split(\": \")[0].lower() \n",
    "            flower = line.split(\": \")[1].strip()\n",
    "            dictionary[letter] = flower\n",
    "    return dictionary\n",
    "\n",
    "\n",
    "\n",
    "#  this function should takes user input (user's first name and last name) and parse the user input to identify the first letter of the first name\n",
    "\n",
    "def main(): \n",
    "    flower_d = flowers_txt_dictionary('flowers.txt')\n",
    "    full_name = input(\"Enter your First [space] Last name only: \")\n",
    "    first_name = full_name[0].lower()\n",
    "    first_letter = first_name[0]\n",
    "# print command that prints final input with value from corresponding key in dictionary\n",
    "    print(\"Unique flower name with the first letter: {}\".format(flower_d[first_letter]))\n",
    "\n",
    "main()"
   ]
  },
  {
   "cell_type": "code",
   "execution_count": null,
   "metadata": {},
   "outputs": [],
   "source": []
  }
 ],
 "metadata": {
  "kernelspec": {
   "display_name": "Python 3",
   "language": "python",
   "name": "python3"
  },
  "language_info": {
   "codemirror_mode": {
    "name": "ipython",
    "version": 3
   },
   "file_extension": ".py",
   "mimetype": "text/x-python",
   "name": "python",
   "nbconvert_exporter": "python",
   "pygments_lexer": "ipython3",
   "version": "3.7.6"
  }
 },
 "nbformat": 4,
 "nbformat_minor": 4
}
