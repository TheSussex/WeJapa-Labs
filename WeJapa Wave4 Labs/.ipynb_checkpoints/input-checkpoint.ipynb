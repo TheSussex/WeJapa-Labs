{
 "cells": [
  {
   "cell_type": "raw",
   "metadata": {},
   "source": [
    "#Write a script that does the following:\n",
    "\n",
    "#Ask for user input 3 times. Once for a list of names, once for a list of missing assignment counts, and once for a list of grades. Use this input to create lists for names, assignments, and grades.\n",
    "#Use a loop to print the message for each student with the correct values. The potential grade is simply the current grade added to two times the number of missing assignments.\n",
    "#Template code for your script:\n",
    "names =  # get and process input for a list of names\n",
    "assignments =  # get and process input for a list of the number of assignments\n",
    "grades =  # get and process input for a list of grades\n",
    "\n",
    "# message string to be used for each student\n",
    "# HINT: use .format() with this string in your for loop\n",
    "message = \"Hi {},\\n\\nThis is a reminder that you have {} assignments left to \\\n",
    "submit before you can graduate. You're current grade is {} and can increase \\\n",
    "to {} if you submit all assignments before the due date.\\n\\n\"\n",
    "\n",
    "# write a for loop that iterates through each set of names, assignments, and grades to print each student's message"
   ]
  },
  {
   "cell_type": "code",
   "execution_count": 15,
   "metadata": {},
   "outputs": [
    {
     "name": "stdout",
     "output_type": "stream",
     "text": [
      "Enter a list of names: Pat,Tee\n",
      "Enter a list of assignment counts: 4,5\n",
      "Enter a list of grades: 2,3\n",
      "Hi Pat,\n",
      "\n",
      "This is a reminder that you have 4 assignments left to submit before you can graduate. You're current grade is 2 and can increase to 10 if you submit all assignments before the due date.\n",
      "\n",
      "\n",
      "Hi Tee,\n",
      "\n",
      "This is a reminder that you have 5 assignments left to submit before you can graduate. You're current grade is 3 and can increase to 13 if you submit all assignments before the due date.\n",
      "\n",
      "\n"
     ]
    }
   ],
   "source": [
    "names = input('Enter a list of names: ').split(',')\n",
    "assignments = input('Enter a list of assignment counts: ').split(',')\n",
    "grades = input('Enter a list of grades: ').split(',')\n",
    "\n",
    "message = \"Hi {},\\n\\nThis is a reminder that you have {} assignments left to \\\n",
    "submit before you can graduate. You're current grade is {} and can increase \\\n",
    "to {} if you submit all assignments before the due date.\\n\\n\"\n",
    "\n",
    "\n",
    "for name, assignment, grade in zip(names, assignments, grades):\n",
    "    print(message.format(name, assignment, grade, int(grade) + int(assignment)*2))"
   ]
  },
  {
   "cell_type": "code",
   "execution_count": null,
   "metadata": {},
   "outputs": [],
   "source": []
  }
 ],
 "metadata": {
  "kernelspec": {
   "display_name": "Python 3",
   "language": "python",
   "name": "python3"
  },
  "language_info": {
   "codemirror_mode": {
    "name": "ipython",
    "version": 3
   },
   "file_extension": ".py",
   "mimetype": "text/x-python",
   "name": "python",
   "nbconvert_exporter": "python",
   "pygments_lexer": "ipython3",
   "version": "3.7.6"
  }
 },
 "nbformat": 4,
 "nbformat_minor": 4
}
