{
 "cells": [
  {
   "cell_type": "code",
   "execution_count": 3,
   "metadata": {},
   "outputs": [
    {
     "name": "stdout",
     "output_type": "stream",
     "text": [
      "Enter any 2-digit number: 22\n",
      "Enter any 2-digit number: 99\n",
      "Enter any 2-digit number: 23\n",
      "Enter any 2-digit number: 10\n",
      "Enter any 2-digit number: 11\n",
      "Enter any 2-digit number: 36\n",
      "Enter any 2-digit number: 27\n",
      "Enter any 2-digit number: 98\n",
      "Enter any 2-digit number: 26\n",
      "Enter any 2-digit number: 28\n",
      "user_list: [22, 99, 23, 10, 11, 36, 27, 98, 26, 28]\n",
      "The sum of the even numbers in user_list is: 220.\n"
     ]
    }
   ],
   "source": [
    "#In the workspace at the bottom of the page, there is a piece of code in the user_input_numlist.py Python file. The code prompts the user to enter 10 two-digit numbers. It should then find and print the sum of all of the even numbers among those that were entered.\n",
    "\n",
    "#But there is a bug in the code! When I input a number, I get the following TypeError. Use the programming environment provided below with a Terminal and code editor to debug the code.\n",
    "\n",
    "# initiate empty list to hold user input and sum value of zero\n",
    "user_list = []\n",
    "list_sum = 0\n",
    "\n",
    "# seek user input for ten numbers \n",
    "for i in range(10):\n",
    "    userInput = int(input(\"Enter any 2-digit number: \"))\n",
    "    \n",
    "# check to see if number is even and if yes, add to list_sum\n",
    "# print incorrect value warning  when ValueError exception occurs\n",
    "    number = userInput\n",
    "    user_list.append(number)\n",
    "    if number % 2 == 0:\n",
    "        list_sum += number\n",
    "\n",
    "\n",
    "print(\"user_list: {}\".format(user_list))\n",
    "print(\"The sum of the even numbers in user_list is: {}.\".format(list_sum))"
   ]
  },
  {
   "cell_type": "code",
   "execution_count": null,
   "metadata": {},
   "outputs": [],
   "source": []
  }
 ],
 "metadata": {
  "kernelspec": {
   "display_name": "Python 3",
   "language": "python",
   "name": "python3"
  }
 },
 "nbformat": 4,
 "nbformat_minor": 4
}
