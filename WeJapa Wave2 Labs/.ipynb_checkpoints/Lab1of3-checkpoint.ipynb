{
 "cells": [
  {
   "cell_type": "code",
   "execution_count": 1,
   "metadata": {},
   "outputs": [],
   "source": [
    "# Use this playground to experiment with list methods, using Test Run"
   ]
  },
  {
   "cell_type": "code",
   "execution_count": 2,
   "metadata": {},
   "outputs": [],
   "source": [
    "foodstuffs = [\"Rice\", \"Beans\", \"Garri\", \"Yam\", \"Spaghetti\"]\n",
    "\n",
    "beverages = [\"Milk\", \"Sugar\", \"Milo\"]"
   ]
  },
  {
   "cell_type": "code",
   "execution_count": 4,
   "metadata": {},
   "outputs": [
    {
     "data": {
      "text/plain": [
       "['Rice', 'Beans', 'Noodles', 'Yam', 'Spaghetti']"
      ]
     },
     "execution_count": 4,
     "metadata": {},
     "output_type": "execute_result"
    }
   ],
   "source": [
    "# replaced garri\n",
    "\n",
    "foodstuffs[2] = \"Noodles\"\n",
    "foodstuffs"
   ]
  },
  {
   "cell_type": "code",
   "execution_count": 5,
   "metadata": {},
   "outputs": [
    {
     "data": {
      "text/plain": [
       "['Rice', 'Beans', 'Noodles', 'Yam', 'Spaghetti', 'Milk', 'Sugar', 'Milo']"
      ]
     },
     "execution_count": 5,
     "metadata": {},
     "output_type": "execute_result"
    }
   ],
   "source": [
    "# add beverages to foodstuffs\n",
    "\n",
    "foodstuffs.extend(beverages)\n",
    "foodstuffs"
   ]
  },
  {
   "cell_type": "code",
   "execution_count": 6,
   "metadata": {},
   "outputs": [
    {
     "data": {
      "text/plain": [
       "['Rice',\n",
       " 'Beans',\n",
       " 'Noodles',\n",
       " 'Yam',\n",
       " 'Spaghetti',\n",
       " 'Milk',\n",
       " 'Sugar',\n",
       " 'Milo',\n",
       " 'Semovita']"
      ]
     },
     "execution_count": 6,
     "metadata": {},
     "output_type": "execute_result"
    }
   ],
   "source": [
    "# added semovita to the end of the list\n",
    "\n",
    "foodstuffs.append(\"Semovita\")\n",
    "foodstuffs"
   ]
  },
  {
   "cell_type": "code",
   "execution_count": 7,
   "metadata": {},
   "outputs": [
    {
     "data": {
      "text/plain": [
       "['Rice',\n",
       " 'Beans',\n",
       " 'Noodles',\n",
       " 'Yam',\n",
       " 'Spaghetti',\n",
       " 'Milk',\n",
       " 'Coffee',\n",
       " 'Sugar',\n",
       " 'Milo',\n",
       " 'Semovita']"
      ]
     },
     "execution_count": 7,
     "metadata": {},
     "output_type": "execute_result"
    }
   ],
   "source": [
    "# added coffee as 6th item\n",
    "\n",
    "foodstuffs.insert(6, \"Coffee\")\n",
    "foodstuffs"
   ]
  },
  {
   "cell_type": "code",
   "execution_count": 8,
   "metadata": {},
   "outputs": [
    {
     "data": {
      "text/plain": [
       "['Rice',\n",
       " 'Noodles',\n",
       " 'Yam',\n",
       " 'Spaghetti',\n",
       " 'Milk',\n",
       " 'Coffee',\n",
       " 'Sugar',\n",
       " 'Milo',\n",
       " 'Semovita']"
      ]
     },
     "execution_count": 8,
     "metadata": {},
     "output_type": "execute_result"
    }
   ],
   "source": [
    "# use .remove to delete a specific item\n",
    "\n",
    "foodstuffs.remove(\"Beans\")\n",
    "foodstuffs"
   ]
  },
  {
   "cell_type": "code",
   "execution_count": 9,
   "metadata": {},
   "outputs": [
    {
     "data": {
      "text/plain": [
       "['Rice', 'Noodles', 'Yam', 'Spaghetti', 'Milk', 'Coffee', 'Sugar', 'Milo']"
      ]
     },
     "execution_count": 9,
     "metadata": {},
     "output_type": "execute_result"
    }
   ],
   "source": [
    "# use pop to remove the last item in the list\n",
    "\n",
    "foodstuffs.pop()\n",
    "foodstuffs"
   ]
  },
  {
   "cell_type": "code",
   "execution_count": 10,
   "metadata": {},
   "outputs": [
    {
     "data": {
      "text/plain": [
       "['Rice', 'Noodles', 'Yam', 'Spaghetti', 'Milk', 'Coffee', 'Sugar', 'Milo']"
      ]
     },
     "execution_count": 10,
     "metadata": {},
     "output_type": "execute_result"
    }
   ],
   "source": [
    "# use index to know if an item is in a list\n",
    "\n",
    "foodstuffs.index(\"Noodles\")\n",
    "foodstuffs"
   ]
  },
  {
   "cell_type": "code",
   "execution_count": 11,
   "metadata": {},
   "outputs": [
    {
     "data": {
      "text/plain": [
       "['Coffee', 'Milk', 'Milo', 'Noodles', 'Rice', 'Spaghetti', 'Sugar', 'Yam']"
      ]
     },
     "execution_count": 11,
     "metadata": {},
     "output_type": "execute_result"
    }
   ],
   "source": [
    "# use sort to put in alphabetical order\n",
    "\n",
    "foodstuffs.sort()\n",
    "foodstuffs"
   ]
  },
  {
   "cell_type": "code",
   "execution_count": 12,
   "metadata": {},
   "outputs": [
    {
     "name": "stdout",
     "output_type": "stream",
     "text": [
      "['Coffee', 'Milk', 'Milo', 'Noodles', 'Rice', 'Spaghetti', 'Sugar', 'Yam']\n"
     ]
    }
   ],
   "source": [
    "# making a copy\n",
    "\n",
    "foodstuffs2 = foodstuffs.copy()\n",
    "print(foodstuffs2)"
   ]
  },
  {
   "cell_type": "code",
   "execution_count": null,
   "metadata": {},
   "outputs": [],
   "source": []
  }
 ],
 "metadata": {
  "kernelspec": {
   "display_name": "Python 3",
   "language": "python",
   "name": "python3"
  },
  "language_info": {
   "codemirror_mode": {
    "name": "ipython",
    "version": 3
   },
   "file_extension": ".py",
   "mimetype": "text/x-python",
   "name": "python",
   "nbconvert_exporter": "python",
   "pygments_lexer": "ipython3",
   "version": "3.7.6"
  }
 },
 "nbformat": 4,
 "nbformat_minor": 4
}
