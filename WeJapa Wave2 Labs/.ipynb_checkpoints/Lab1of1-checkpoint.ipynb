{
 "cells": [
  {
   "cell_type": "code",
   "execution_count": 3,
   "metadata": {},
   "outputs": [
    {
     "name": "stdout",
     "output_type": "stream",
     "text": [
      "31\n"
     ]
    }
   ],
   "source": [
    "#Quiz: List Indexing\n",
    "#Use list indexing to determine how many days are in a particular month based on the integer variable month, and store that value in the integer variable num_days. For example, if month is 8, num_days should be set to 31, since the eighth month, August, has 31 days.\n",
    "\n",
    "#Remember to account for zero-based indexing!\n",
    "\n",
    "\n",
    "\n",
    "month = 8\n",
    "days_in_month = [31,28,31,30,31,30,31,31,30,31,30,31]\n",
    "\n",
    "# use list indexing to determine the number of days in month\n",
    "\n",
    "num_days = days_in_month[7]\n",
    "print(num_days)"
   ]
  },
  {
   "cell_type": "code",
   "execution_count": null,
   "metadata": {},
   "outputs": [],
   "source": []
  }
 ],
 "metadata": {
  "kernelspec": {
   "display_name": "Python 3",
   "language": "python",
   "name": "python3"
  },
  "language_info": {
   "codemirror_mode": {
    "name": "ipython",
    "version": 3
   },
   "file_extension": ".py",
   "mimetype": "text/x-python",
   "name": "python",
   "nbconvert_exporter": "python",
   "pygments_lexer": "ipython3",
   "version": "3.7.6"
  }
 },
 "nbformat": 4,
 "nbformat_minor": 4
}
