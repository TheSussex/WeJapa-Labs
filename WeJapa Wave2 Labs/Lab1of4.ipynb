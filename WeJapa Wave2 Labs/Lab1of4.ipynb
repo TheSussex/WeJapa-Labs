{
 "cells": [
  {
   "cell_type": "code",
   "execution_count": null,
   "metadata": {},
   "outputs": [],
   "source": [
    "# Define a Dictionary, population,\n",
    "# that provides information\n",
    "# on the world's largest cities.\n",
    "# The key is the name of a city\n",
    "# (a string), and the associated\n",
    "# value is its population in\n",
    "# millions of people.\n",
    "\n",
    "#   Key     |   Value\n",
    "# Shanghai  |   17.8\n",
    "# Istanbul  |   13.3\n",
    "# Karachi   |   13.0\n",
    "# Mumbai    |   12.5"
   ]
  },
  {
   "cell_type": "code",
   "execution_count": 3,
   "metadata": {},
   "outputs": [
    {
     "name": "stdout",
     "output_type": "stream",
     "text": [
      "{'Shanghai': 17.8, 'Instabul': 13.3, 'Karachi': 13.0, 'Mumbai': 12.5}\n"
     ]
    }
   ],
   "source": [
    "population = {\n",
    "    'Shanghai': 17.8,\n",
    "    'Instabul': 13.3,\n",
    "    'Karachi': 13.0,\n",
    "    'Mumbai': 12.5,  \n",
    "}\n",
    "\n",
    "print(population)"
   ]
  },
  {
   "cell_type": "code",
   "execution_count": null,
   "metadata": {},
   "outputs": [],
   "source": []
  }
 ],
 "metadata": {
  "kernelspec": {
   "display_name": "Python 3",
   "language": "python",
   "name": "python3"
  },
  "language_info": {
   "codemirror_mode": {
    "name": "ipython",
    "version": 3
   },
   "file_extension": ".py",
   "mimetype": "text/x-python",
   "name": "python",
   "nbconvert_exporter": "python",
   "pygments_lexer": "ipython3",
   "version": "3.7.6"
  }
 },
 "nbformat": 4,
 "nbformat_minor": 4
}
