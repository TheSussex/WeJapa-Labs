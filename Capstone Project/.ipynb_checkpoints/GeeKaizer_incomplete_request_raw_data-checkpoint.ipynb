{
 "cells": [
  {
   "cell_type": "code",
   "execution_count": null,
   "metadata": {},
   "outputs": [],
   "source": [
    "import pandas as pd\n",
    "import datetime\n",
    "\n",
    "CITY_DATA = { 'chicago': 'chicago.csv',\n",
    "              'new york city': 'new_york_city.csv',\n",
    "              'washington': 'washington.csv' }\n",
    "\n",
    "df = pd.read_csv('chicago.csv')\n",
    "\n",
    "a = 5\n",
    "x = a+5\n",
    "\n",
    "while True:\n",
    "    sub = input('would you like to see the first 5 raw data: ')\n",
    "    if sub == 'y':\n",
    "        print(df[0:5])\n",
    "    if sub != 'y':\n",
    "        break\n",
    "                \n",
    "    while sub =='y':\n",
    "        man = input('would you like to see more raw data: ')\n",
    "        if man == 'y':\n",
    "            print(df[++a:++x])\n",
    "        if man != 'y':\n",
    "                break\n",
    "                \n",
    "        \n",
    "\n",
    "\n",
    "    \n",
    "        #city input was successfully parsed, and we're happy with its value.\n",
    "        #we're ready to exit the loop.\n",
    "        \n",
    "        "
   ]
  },
  {
   "cell_type": "code",
   "execution_count": null,
   "metadata": {},
   "outputs": [],
   "source": []
  },
  {
   "cell_type": "code",
   "execution_count": null,
   "metadata": {},
   "outputs": [],
   "source": []
  }
 ],
 "metadata": {
  "kernelspec": {
   "display_name": "Python 3",
   "language": "python",
   "name": "python3"
  },
  "language_info": {
   "codemirror_mode": {
    "name": "ipython",
    "version": 3
   },
   "file_extension": ".py",
   "mimetype": "text/x-python",
   "name": "python",
   "nbconvert_exporter": "python",
   "pygments_lexer": "ipython3",
   "version": "3.7.6"
  }
 },
 "nbformat": 4,
 "nbformat_minor": 4
}
