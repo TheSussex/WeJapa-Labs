{
 "cells": [
  {
   "cell_type": "code",
   "execution_count": null,
   "metadata": {},
   "outputs": [],
   "source": [
    "import pandas as pd\n",
    "\n",
    "df = pd.read_csv('chicago.csv')\n",
    "def load_raw_data():\n",
    "    counter = [5*x for x in range(len(df))]\n",
    "    i = 0\n",
    "    while True:\n",
    "        try:\n",
    "            user_choice = str(input(\"Would you like to see five lines of the raw data? Enter 'y' or n \")).lower()\n",
    "        except InputError:\n",
    "            continue\n",
    "        if user_choice == 'y':\n",
    "            print(df[counter[i]:counter[i+1]])\n",
    "            i += 1\n",
    "        elif user_choice == 'n':\n",
    "            break\n",
    "            \n",
    "load_raw_data()"
   ]
  },
  {
   "cell_type": "code",
   "execution_count": null,
   "metadata": {},
   "outputs": [],
   "source": []
  }
 ],
 "metadata": {
  "kernelspec": {
   "display_name": "Python 3",
   "language": "python",
   "name": "python3"
  },
  "language_info": {
   "codemirror_mode": {
    "name": "ipython",
    "version": 3
   },
   "file_extension": ".py",
   "mimetype": "text/x-python",
   "name": "python",
   "nbconvert_exporter": "python",
   "pygments_lexer": "ipython3",
   "version": "3.7.6"
  }
 },
 "nbformat": 4,
 "nbformat_minor": 4
}
