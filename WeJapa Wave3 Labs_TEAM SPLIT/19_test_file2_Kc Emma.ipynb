{
 "cells": [
  {
   "cell_type": "code",
   "execution_count": 1,
   "metadata": {},
   "outputs": [
    {
     "name": "stdout",
     "output_type": "stream",
     "text": [
      "I am thinking of a number\n",
      "Enter the number: 90\n",
      "Oops! Your guess was too high.\n"
     ]
    }
   ],
   "source": [
    "# '''\n",
    "# You decide you want to play a game where you are hiding\n",
    "# a number from someone. Store this number in a variable\n",
    "# called 'answer'. Another user provides a number called\n",
    "# 'guess'. By comparing guess to answer, you inform the user\n",
    "# if their guess is too high or too low.\n",
    "\n",
    "# Fill in the conditionals below to inform the user about how\n",
    "# their guess compares to the answer.\n",
    "# '''\n",
    "\n",
    "\n",
    "answer = 23   #provide answer\n",
    "guess = int(input('I am thinking of a number\\nEnter the number: '))#provide guess\n",
    "\n",
    "if guess < answer: #provide conditional\n",
    "    result = \"Oops! Your guess was too low.\"\n",
    "elif guess > answer:#provide conditional\n",
    "    result = \"Oops! Your guess was too high.\"\n",
    "elif guess == answer: #provide conditional\n",
    "    result = \"Nice! Your guess matched the answer!\"\n",
    "\n",
    "print(result)\n"
   ]
  },
  {
   "cell_type": "code",
   "execution_count": null,
   "metadata": {},
   "outputs": [],
   "source": []
  }
 ],
 "metadata": {
  "kernelspec": {
   "display_name": "Python 3",
   "language": "python",
   "name": "python3"
  },
  "language_info": {
   "codemirror_mode": {
    "name": "ipython",
    "version": 3
   },
   "file_extension": ".py",
   "mimetype": "text/x-python",
   "name": "python",
   "nbconvert_exporter": "python",
   "pygments_lexer": "ipython3",
   "version": "3.7.6"
  }
 },
 "nbformat": 4,
 "nbformat_minor": 4
}
