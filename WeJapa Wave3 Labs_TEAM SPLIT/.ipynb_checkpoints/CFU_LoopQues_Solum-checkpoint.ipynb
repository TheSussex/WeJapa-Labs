{
 "cells": [
  {
   "cell_type": "code",
   "execution_count": 1,
   "metadata": {},
   "outputs": [
    {
     "name": "stdout",
     "output_type": "stream",
     "text": [
      "26 is not a prime number, because 2  is a factor of 26\n",
      "39 is not a prime number, because 3  is a factor of 39\n",
      "51 is not a prime number, because 3  is a factor of 51\n",
      "53 is a prime number\n",
      "57 is not a prime number, because 3  is a factor of 57\n",
      "79 is a prime number\n",
      "85 is not a prime number, because 5  is a factor of 85\n"
     ]
    }
   ],
   "source": [
    "#Coding Quiz: Check for Prime Numbers\n",
    "#Prime numbers are whole numbers that have only two factors: 1 and the number itself. The first few prime numbers are 2, 3, 5, 7.\n",
    "\n",
    "#For instance, 6 has four factors: 1, 2, 3, 6.\n",
    "#1 X 6 = 6\n",
    "#2 X 3 = 6\n",
    "#So we know 6 is not a prime number.\n",
    "\n",
    "#In the following coding environment, write code to check if the numbers provided in the list check_prime are prime numbers.\n",
    "\n",
    "\n",
    "## Your code should check if each number in the list is a prime number\n",
    "\n",
    "# the numbers are prime, the code should print \"[number] is a prime number.\"\n",
    "#If the number is NOT a prime number, it should print \"[number] is not a prime number\", and a factor of that number, other than 1 and the number itself: \"[factor] is a factor of [number]\".\n",
    "#Example output:\n",
    "\n",
    "#7 IS a prime number\n",
    "#26 is NOT a prime number, because 2 is a factor of 26\n",
    "\n",
    "check_prime = [26, 39, 51, 53, 57, 79, 85]\n",
    "\n",
    "## write your code here\n",
    "## HINT: You can use the modulo operator to find a factor\n",
    "for n in check_prime:\n",
    "    if n > 1:\n",
    "        for div in range(2,n):\n",
    "            if n % div == 0:\n",
    "                print(n,\"is not a prime number, because\", div,\" is a factor of\",n)\n",
    "                break\n",
    "        else:\n",
    "            print(n, \"is a prime number\")\n",
    "    elif n <= 1:\n",
    "        print(n, \"is not a prime number\")"
   ]
  },
  {
   "cell_type": "code",
   "execution_count": null,
   "metadata": {},
   "outputs": [],
   "source": []
  }
 ],
 "metadata": {
  "kernelspec": {
   "display_name": "Python 3",
   "language": "python",
   "name": "python3"
  },
  "language_info": {
   "codemirror_mode": {
    "name": "ipython",
    "version": 3
   },
   "file_extension": ".py",
   "mimetype": "text/x-python",
   "name": "python",
   "nbconvert_exporter": "python",
   "pygments_lexer": "ipython3",
   "version": "3.7.6"
  }
 },
 "nbformat": 4,
 "nbformat_minor": 4
}
