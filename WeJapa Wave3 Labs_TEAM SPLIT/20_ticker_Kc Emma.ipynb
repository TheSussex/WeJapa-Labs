{
 "cells": [
  {
   "cell_type": "code",
   "execution_count": 12,
   "metadata": {},
   "outputs": [
    {
     "name": "stdout",
     "output_type": "stream",
     "text": [
      "Local Bear Eaten by Man Legislature Announces New Laws Peasant Discovers Violence Inherent in System Cat Rescues Fireman Stuck in Tree Brave\n"
     ]
    }
   ],
   "source": [
    "#Break the String\n",
    "#Write a loop with a break statement to create a string, news_ticker, that is exactly 140 characters long. You should create the news ticker by adding headlines from the headlines list, inserting a space in between each headline. If necessary, truncate the last headline in the middle so that news_ticker is exactly 140 characters long.\n",
    "\n",
    "#Remember that break works in both for and while loops. Use whichever loop seems most appropriate. Consider adding print statements to your code to help you resolve bugs.\n",
    "\n",
    "# HINT: modify the headlines list to verify your loop works with different inputs\n",
    "headlines = [\"Local Bear Eaten by Man\",\n",
    "             \"Legislature Announces New Laws\",\n",
    "             \"Peasant Discovers Violence Inherent in System\",\n",
    "             \"Cat Rescues Fireman Stuck in Tree\",\n",
    "             \"Brave Knight Runs Away\",\n",
    "             \"Papperbok Review: Totally Triffic\"]\n",
    "\n",
    "\n",
    "news_ticker = \"\"\n",
    "\n",
    "# write your loop here\n",
    "\n",
    "for h in headlines:\n",
    "    news_ticker += h + \" \"\n",
    "    if len(news_ticker) >= 140:\n",
    "        news_ticker = news_ticker[:140]\n",
    "        break       \n",
    "        \n",
    "print(news_ticker)"
   ]
  },
  {
   "cell_type": "code",
   "execution_count": null,
   "metadata": {},
   "outputs": [],
   "source": []
  }
 ],
 "metadata": {
  "kernelspec": {
   "display_name": "Python 3",
   "language": "python",
   "name": "python3"
  },
  "language_info": {
   "codemirror_mode": {
    "name": "ipython",
    "version": 3
   },
   "file_extension": ".py",
   "mimetype": "text/x-python",
   "name": "python",
   "nbconvert_exporter": "python",
   "pygments_lexer": "ipython3",
   "version": "3.7.6"
  }
 },
 "nbformat": 4,
 "nbformat_minor": 4
}
