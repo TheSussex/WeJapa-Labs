{
 "cells": [
  {
   "cell_type": "code",
   "execution_count": 2,
   "metadata": {},
   "outputs": [
    {
     "name": "stdout",
     "output_type": "stream",
     "text": [
      "My namme is Success Ologunsua, I'm 23 years old.\n"
     ]
    }
   ],
   "source": [
    "# Write two lines of code below, each assigning a value to a variable\n",
    "\n",
    "name = 'Success Ologunsua'\n",
    "age = 23\n",
    "\n",
    "# Now write a print statement using .format() to print out a sentence and the \n",
    "#   values of both of the variables\n",
    "\n",
    "print(\"My namme is {}, I'm {} years old.\".format(name,age))"
   ]
  },
  {
   "cell_type": "code",
   "execution_count": null,
   "metadata": {},
   "outputs": [],
   "source": []
  }
 ],
 "metadata": {
  "kernelspec": {
   "display_name": "Python 3",
   "language": "python",
   "name": "python3"
  },
  "language_info": {
   "codemirror_mode": {
    "name": "ipython",
    "version": 3
   },
   "file_extension": ".py",
   "mimetype": "text/x-python",
   "name": "python",
   "nbconvert_exporter": "python",
   "pygments_lexer": "ipython3",
   "version": "3.7.6"
  }
 },
 "nbformat": 4,
 "nbformat_minor": 4
}
