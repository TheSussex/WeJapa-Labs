{
 "cells": [
  {
   "cell_type": "code",
   "execution_count": 11,
   "metadata": {},
   "outputs": [
    {
     "name": "stdout",
     "output_type": "stream",
     "text": [
      "16.333333333333332\n",
      "0.6666666666666679\n"
     ]
    }
   ],
   "source": [
    "#Quiz: Calculate\n",
    "#In this quiz you're going to do some calculations for a tiler. Two parts of a floor need tiling. One part is 9 tiles wide by 7 tiles long, the other is 5 tiles wide by 7 tiles long. Tiles come in packages of 6.\n",
    "\n",
    "#1. How many tiles are needed?\n",
    "#2. You buy 17 packages of tiles containing 6 tiles each. How many tiles will be left over?\n",
    "\n",
    "\n",
    "\n",
    "\n",
    "# Fill this in with an expression that calculates how many tiles are needed.\n",
    "tiles_needed = (9*7 + 5*7) / 6\n",
    "print(tiles_needed)\n",
    "\n",
    "# Fill this in with an expression that calculates how many tiles will be left over.\n",
    "print(17 - tiles_needed)"
   ]
  },
  {
   "cell_type": "code",
   "execution_count": null,
   "metadata": {},
   "outputs": [],
   "source": []
  }
 ],
 "metadata": {
  "kernelspec": {
   "display_name": "Python 3",
   "language": "python",
   "name": "python3"
  },
  "language_info": {
   "codemirror_mode": {
    "name": "ipython",
    "version": 3
   },
   "file_extension": ".py",
   "mimetype": "text/x-python",
   "name": "python",
   "nbconvert_exporter": "python",
   "pygments_lexer": "ipython3",
   "version": "3.7.6"
  }
 },
 "nbformat": 4,
 "nbformat_minor": 4
}
