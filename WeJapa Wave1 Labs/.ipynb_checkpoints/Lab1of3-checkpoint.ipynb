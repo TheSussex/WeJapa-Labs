{
 "cells": [
  {
   "cell_type": "code",
   "execution_count": 1,
   "metadata": {},
   "outputs": [],
   "source": [
    "#Note that this code uses scientific notation to define large numbers. 4.445e8 is equal to 4.445 * 10 ** 8 which is equal to 444500000.0.\n",
    "\n",
    "# The current volume of a water reservoir (in cubic metres)\n",
    "reservoir_volume = 4.445e8\n",
    "\n",
    "# The amount of rainfall from a storm (in cubic metres)\n",
    "rainfall = 5e6"
   ]
  },
  {
   "cell_type": "code",
   "execution_count": 2,
   "metadata": {},
   "outputs": [
    {
     "name": "stdout",
     "output_type": "stream",
     "text": [
      "4500000.0\n"
     ]
    }
   ],
   "source": [
    "# decrease the rainfall variable by 10% to account for runoff\n",
    "\n",
    "runoff = rainfall - (rainfall * 0.1)\n",
    "print(runoff)"
   ]
  },
  {
   "cell_type": "code",
   "execution_count": 3,
   "metadata": {},
   "outputs": [
    {
     "name": "stdout",
     "output_type": "stream",
     "text": [
      "449000000.0\n"
     ]
    }
   ],
   "source": [
    "# add the rainfall variable to the reservoir_volume variable\n",
    "\n",
    "rainfall_reservoir = runoff + reservoir_volume\n",
    "print(rainfall_reservoir)"
   ]
  },
  {
   "cell_type": "code",
   "execution_count": 4,
   "metadata": {},
   "outputs": [
    {
     "name": "stdout",
     "output_type": "stream",
     "text": [
      "471450000.0\n"
     ]
    }
   ],
   "source": [
    "# increase reservoir_volume by 5% to account for stormwater that flows into the reservoir in the days following the storm\n",
    "\n",
    "stormwater = rainfall_reservoir + (rainfall_reservoir * 0.05)\n",
    "print(stormwater)"
   ]
  },
  {
   "cell_type": "code",
   "execution_count": 5,
   "metadata": {},
   "outputs": [
    {
     "name": "stdout",
     "output_type": "stream",
     "text": [
      "447877500.0\n"
     ]
    }
   ],
   "source": [
    "# decrease reservoir_volume by 5% to account for evaporation\n",
    "\n",
    "evaporation = stormwater - (stormwater * 0.05)\n",
    "print(evaporation)"
   ]
  },
  {
   "cell_type": "code",
   "execution_count": 6,
   "metadata": {},
   "outputs": [
    {
     "name": "stdout",
     "output_type": "stream",
     "text": [
      "447627500.0\n"
     ]
    }
   ],
   "source": [
    "# subtract 2.5e5 cubic metres from reservoir_volume to account for water that's piped to arid regions.\n",
    "\n",
    "arid_regions = evaporation - 2.5e5\n",
    "print(arid_regions)\n",
    "\n"
   ]
  },
  {
   "cell_type": "code",
   "execution_count": 7,
   "metadata": {},
   "outputs": [
    {
     "name": "stdout",
     "output_type": "stream",
     "text": [
      "447627500.0\n"
     ]
    }
   ],
   "source": [
    "# print the new value of the reservoir_volume variable\n",
    "\n",
    "new_reservoir = arid_regions\n",
    "print(new_reservoir)"
   ]
  },
  {
   "cell_type": "code",
   "execution_count": null,
   "metadata": {},
   "outputs": [],
   "source": []
  }
 ],
 "metadata": {
  "kernelspec": {
   "display_name": "Python 3",
   "language": "python",
   "name": "python3"
  },
  "language_info": {
   "codemirror_mode": {
    "name": "ipython",
    "version": 3
   },
   "file_extension": ".py",
   "mimetype": "text/x-python",
   "name": "python",
   "nbconvert_exporter": "python",
   "pygments_lexer": "ipython3",
   "version": "3.7.6"
  }
 },
 "nbformat": 4,
 "nbformat_minor": 4
}
